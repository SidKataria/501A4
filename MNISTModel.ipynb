{
  "nbformat": 4,
  "nbformat_minor": 0,
  "metadata": {
    "colab": {
      "name": "MNISTModel.ipynb",
      "provenance": [],
      "include_colab_link": true
    },
    "kernelspec": {
      "name": "python3",
      "display_name": "Python 3"
    }
  },
  "cells": [
    {
      "cell_type": "markdown",
      "metadata": {
        "id": "view-in-github",
        "colab_type": "text"
      },
      "source": [
        "<a href=\"https://colab.research.google.com/github/SidKataria/501A4/blob/master/MNISTModel.ipynb\" target=\"_parent\"><img src=\"https://colab.research.google.com/assets/colab-badge.svg\" alt=\"Open In Colab\"/></a>"
      ]
    },
    {
      "cell_type": "code",
      "metadata": {
        "id": "Cz4ALmFPHSQn",
        "colab_type": "code",
        "colab": {
          "base_uri": "https://localhost:8080/",
          "height": 34
        },
        "outputId": "fa433244-9973-46ce-9c10-83e97db2fc9d"
      },
      "source": [
        "try:\n",
        "# %tensorflow_version only exists in Colab. \n",
        " %tensorflow_version 2.x\n",
        "except Exception: \n",
        " pass"
      ],
      "execution_count": 1,
      "outputs": [
        {
          "output_type": "stream",
          "text": [
            "TensorFlow 2.x selected.\n"
          ],
          "name": "stdout"
        }
      ]
    },
    {
      "cell_type": "code",
      "metadata": {
        "id": "2_MmR6GFGo28",
        "colab_type": "code",
        "colab": {
          "base_uri": "https://localhost:8080/",
          "height": 884
        },
        "outputId": "73717b36-0cda-450f-fc58-f2b8580274e0"
      },
      "source": [
        "# @author Siddharth Kataria\n",
        "# UCID: 30000880\n",
        "# Fall 2019\n",
        "# CPSC 501\n",
        "# Assignment 4 - Part 1\n",
        "import tensorflow as tf\n",
        "\n",
        "print(\"--Get data--\")\n",
        "mnist = tf.keras.datasets.mnist\n",
        "(x_train, y_train), (x_test, y_test) = mnist.load_data()\n",
        "\n",
        "print(\"--Process data--\")\n",
        "x_train, x_test = x_train / 255.0, x_test / 255.0\n",
        "\n",
        "#New lines\n",
        "print(\"--Make model--\")\n",
        "model = tf.keras.models.Sequential([\n",
        "  tf.keras.layers.Flatten(input_shape=(28, 28)),\n",
        "  tf.keras.layers.Dense(128, activation='relu'),\n",
        "  tf.keras.layers.Dropout(0.2),\n",
        "  tf.keras.layers.Dense(128, activation='softmax')\n",
        "])\n",
        "model.compile(optimizer='adam',\n",
        "              loss='sparse_categorical_crossentropy',\n",
        "              metrics=['accuracy'])\n",
        "#model = tf.keras.models.Sequential([\n",
        "#  tf.keras.layers.Flatten(input_shape=(28, 28)),\n",
        "#  tf.keras.layers.Dense(10, activation='sigmoid')\n",
        "#])\n",
        "#model.compile(optimizer='sgd', loss='sparse_categorical_crossentropy', metrics=['accuracy'])\n",
        "\n",
        "print(\"--Fit model--\")\n",
        "model.fit(x_train, y_train, epochs=20, verbose=2)\n",
        "\n",
        "print(\"--Evaluate model--\")\n",
        "model_loss, model_acc = model.evaluate(x_test,  y_test, verbose=2)\n",
        "print(f\"Model Loss:    {model_loss:.2f}\")\n",
        "print(f\"Model Accuracy: {model_acc*100:.1f}%\")"
      ],
      "execution_count": 2,
      "outputs": [
        {
          "output_type": "stream",
          "text": [
            "--Get data--\n",
            "Downloading data from https://storage.googleapis.com/tensorflow/tf-keras-datasets/mnist.npz\n",
            "11493376/11490434 [==============================] - 0s 0us/step\n",
            "--Process data--\n",
            "--Make model--\n",
            "--Fit model--\n",
            "Train on 60000 samples\n",
            "Epoch 1/20\n",
            "60000/60000 - 6s - loss: 0.3555 - accuracy: 0.9001\n",
            "Epoch 2/20\n",
            "60000/60000 - 5s - loss: 0.1588 - accuracy: 0.9527\n",
            "Epoch 3/20\n",
            "60000/60000 - 4s - loss: 0.1177 - accuracy: 0.9641\n",
            "Epoch 4/20\n",
            "60000/60000 - 5s - loss: 0.0940 - accuracy: 0.9715\n",
            "Epoch 5/20\n",
            "60000/60000 - 5s - loss: 0.0812 - accuracy: 0.9747\n",
            "Epoch 6/20\n",
            "60000/60000 - 4s - loss: 0.0685 - accuracy: 0.9790\n",
            "Epoch 7/20\n",
            "60000/60000 - 4s - loss: 0.0605 - accuracy: 0.9809\n",
            "Epoch 8/20\n",
            "60000/60000 - 4s - loss: 0.0553 - accuracy: 0.9827\n",
            "Epoch 9/20\n",
            "60000/60000 - 5s - loss: 0.0484 - accuracy: 0.9849\n",
            "Epoch 10/20\n",
            "60000/60000 - 4s - loss: 0.0476 - accuracy: 0.9841\n",
            "Epoch 11/20\n",
            "60000/60000 - 4s - loss: 0.0417 - accuracy: 0.9857\n",
            "Epoch 12/20\n",
            "60000/60000 - 5s - loss: 0.0400 - accuracy: 0.9867\n",
            "Epoch 13/20\n",
            "60000/60000 - 4s - loss: 0.0377 - accuracy: 0.9878\n",
            "Epoch 14/20\n",
            "60000/60000 - 4s - loss: 0.0351 - accuracy: 0.9879\n",
            "Epoch 15/20\n",
            "60000/60000 - 5s - loss: 0.0337 - accuracy: 0.9886\n",
            "Epoch 16/20\n",
            "60000/60000 - 5s - loss: 0.0312 - accuracy: 0.9893\n",
            "Epoch 17/20\n",
            "60000/60000 - 5s - loss: 0.0297 - accuracy: 0.9895\n",
            "Epoch 18/20\n",
            "60000/60000 - 4s - loss: 0.0294 - accuracy: 0.9901\n",
            "Epoch 19/20\n",
            "60000/60000 - 4s - loss: 0.0267 - accuracy: 0.9905\n",
            "Epoch 20/20\n",
            "60000/60000 - 5s - loss: 0.0261 - accuracy: 0.9910\n",
            "--Evaluate model--\n",
            "10000/1 - 0s - loss: 0.0416 - accuracy: 0.9810\n",
            "Model Loss:    0.08\n",
            "Model Accuracy: 98.1%\n"
          ],
          "name": "stdout"
        }
      ]
    }
  ]
}